{
 "cells": [
  {
   "cell_type": "markdown",
   "metadata": {},
   "source": [
    "# Using k-nearest neighbours to classify handwritten digits (mnist) dataset\n",
    "\n",
    "\n",
    "In the following set of notebooks, we shall establish a pipeline to classify mnist data using a nearest neighbour approach. The objective is to understand the flow of Bluedata ML Ops pipeline. There are three key stages in developing the model:\n",
    "\n",
    "\n",
    "1. Clean and convert data into a CSV file. \n",
    "2. Apply dimensionality reduction on the training data \n",
    "3. Train a kNN model to classify the test data \n",
    "\n",
    "___\n",
    "___\n",
    "\n",
    "**This notebook shall illustrate stage 1 and 2. The third stage is part of the later notebook**\n",
    "\n",
    "____"
   ]
  },
  {
   "cell_type": "markdown",
   "metadata": {},
   "source": [
    "## Imports"
   ]
  },
  {
   "cell_type": "code",
   "execution_count": 1,
   "metadata": {},
   "outputs": [],
   "source": [
    "import numpy as np\n",
    "import pandas as pd\n",
    "from sklearn import decomposition\n",
    "import pickle\n",
    "import matplotlib.pyplot as plt\n",
    "\n",
    "# nfs path is used as a common repository to store code, data and ML models\n",
    "nfs_path = \"/bd-fs-mnt/sj_ai_ml/\""
   ]
  },
  {
   "cell_type": "markdown",
   "metadata": {},
   "source": [
    "## Pre-processing\n",
    "### Convert raw format to a csv\n",
    "\n",
    "The [mnist dataset](http://yann.lecun.com/exdb/mnist/) is in a non-text format and we use the code from [this github repo](https://github.com/pjreddie/mnist-csv-png) to convert it into a CSV."
   ]
  },
  {
   "cell_type": "code",
   "execution_count": 2,
   "metadata": {},
   "outputs": [],
   "source": [
    "def convert(imgf, labelf, outf, n):\n",
    "    f = open(imgf, \"rb\")\n",
    "    o = open(outf, \"w\")\n",
    "    l = open(labelf, \"rb\")\n",
    "\n",
    "    f.read(16)\n",
    "    l.read(8)\n",
    "    images = []\n",
    "\n",
    "    for i in range(n):\n",
    "        image = [ord(l.read(1))]\n",
    "        for j in range(28*28):\n",
    "            image.append(ord(f.read(1)))\n",
    "        images.append(image)\n",
    "\n",
    "    for image in images:\n",
    "        o.write(\",\".join(str(pix) for pix in image)+\"\\n\")\n",
    "    f.close()\n",
    "    o.close()\n",
    "    l.close()"
   ]
  },
  {
   "cell_type": "code",
   "execution_count": 3,
   "metadata": {},
   "outputs": [],
   "source": [
    "#convert training data to csv\n",
    "convert( nfs_path + \"data/train-images\", nfs_path + \"data/train-labels\",\n",
    "        nfs_path + \"data/mnist_train.csv\", 60000)"
   ]
  },
  {
   "cell_type": "code",
   "execution_count": 4,
   "metadata": {},
   "outputs": [],
   "source": [
    "#convert test data to csv\n",
    "convert(nfs_path + \"data/test-images\", nfs_path + \"data/test-labels\",\n",
    "        nfs_path + \"data/mnist_test.csv\", 10000)"
   ]
  },
  {
   "cell_type": "markdown",
   "metadata": {},
   "source": [
    "### Load data\n",
    "\n",
    "Now, we load the training and test data into memory\n"
   ]
  },
  {
   "cell_type": "code",
   "execution_count": 5,
   "metadata": {},
   "outputs": [],
   "source": [
    "train_data = np.loadtxt(nfs_path + \"data/mnist_train.csv\", delimiter=\",\")\n",
    "test_data = np.loadtxt(nfs_path + \"data/mnist_test.csv\", delimiter=\",\")"
   ]
  },
  {
   "cell_type": "markdown",
   "metadata": {},
   "source": [
    "### Split data and labels"
   ]
  },
  {
   "cell_type": "code",
   "execution_count": 6,
   "metadata": {},
   "outputs": [],
   "source": [
    "train_label, train_data = np.array_split(train_data, [1], axis = 1)\n",
    "test_label, test_data = np.array_split(test_data, [1], axis = 1)"
   ]
  },
  {
   "cell_type": "markdown",
   "metadata": {},
   "source": [
    "### Normalize the data"
   ]
  },
  {
   "cell_type": "code",
   "execution_count": 7,
   "metadata": {},
   "outputs": [],
   "source": [
    "train_data = train_data/255.\n",
    "test_data = test_data/255."
   ]
  },
  {
   "cell_type": "markdown",
   "metadata": {},
   "source": [
    "## Dump data and labels\n",
    "\n",
    "We save the data and labels to the disk. We now have the decomposition PCA model fitted with training data, and the original CSV files."
   ]
  },
  {
   "cell_type": "code",
   "execution_count": 8,
   "metadata": {},
   "outputs": [],
   "source": [
    "np.save(nfs_path + \"data/train_label\", train_label)\n",
    "np.save(nfs_path + \"data/train_data\", train_data)\n",
    "np.save(nfs_path + \"data/test_label\", test_label)\n",
    "np.save(nfs_path + \"data/test_data\", test_data)\n"
   ]
  },
  {
   "cell_type": "markdown",
   "metadata": {},
   "source": [
    "## Decompose the training data"
   ]
  },
  {
   "cell_type": "markdown",
   "metadata": {},
   "source": [
    "We now assess the decomposition to see the optimum number of features that would help balance the accuracy. For our example, we assume that 200 components with an explained variance of 96.67% are sufficient to get an accuracy good enough for the model. "
   ]
  },
  {
   "cell_type": "code",
   "execution_count": 9,
   "metadata": {},
   "outputs": [
    {
     "data": {
      "text/plain": [
       "Text(0, 0.5, 'cumulative explained variance')"
      ]
     },
     "execution_count": 9,
     "metadata": {},
     "output_type": "execute_result"
    },
    {
     "data": {
      "image/png": "[encoded data removed]",
      "text/plain": [
       "<Figure size 432x288 with 1 Axes>"
      ]
     },
     "metadata": {
      "needs_background": "light"
     },
     "output_type": "display_data"
    }
   ],
   "source": [
    "pca = decomposition.PCA()\n",
    "pca.fit(train_data)\n",
    "\n",
    "plt.plot(np.cumsum(pca.explained_variance_ratio_))\n",
    "plt.axvline(x=200, color=\"r\", linestyle=\"--\")\n",
    "plt.xlabel('number of components')\n",
    "plt.ylabel('cumulative explained variance')"
   ]
  },
  {
   "cell_type": "markdown",
   "metadata": {},
   "source": [
    "## Decompose the data on Training Cluster and Save the model"
   ]
  },
  {
   "cell_type": "markdown",
   "metadata": {},
   "source": [
    "We now have the PCA parameters required to decompose the training data. We do this in the training environment using the **%%** attachments.\n",
    "\n",
    "_**Note**: Storing/Saving a model with Standalone Jupyter Notebook Environment may make it incompatible with the Model Serving Engine (Endpoint Wrapper). It is recommended to use Training Environment (BlueData magics commands) in conjunction with Jupyter Notebook to store/save a model that is to be used for serving._"
   ]
  },
  {
   "cell_type": "code",
   "execution_count": 10,
   "metadata": {},
   "outputs": [
    {
     "name": "stdout",
     "output_type": "stream",
     "text": [
      "Training Cluster    ML Engine\n",
      "------------------  -----------\n",
      "knntraining         python\n"
     ]
    }
   ],
   "source": [
    "%attachments"
   ]
  },
  {
   "cell_type": "code",
   "execution_count": 11,
   "metadata": {},
   "outputs": [
    {
     "name": "stdout",
     "output_type": "stream",
     "text": [
      "History URL: http://bluedata-14.bdlocal:10001/history/8\n"
     ]
    }
   ],
   "source": [
    "%%knntraining\n",
    "# We run the code directly into the training cluster with the help of the \"%%\" magic command\n",
    "\n",
    "# Imports\n",
    "import numpy as np\n",
    "import pandas as pd\n",
    "from sklearn import decomposition\n",
    "import pickle\n",
    "\n",
    "# nfs path is used as a common repository to store code, data and ML models\n",
    "nfs_path = \"/bd-fs-mnt/sj_ai_ml/\"\n",
    "\n",
    "# Load training data\n",
    "train_data = np.load(nfs_path + \"data/train_data.npy\")\n",
    "\n",
    "# We define a function to fit a PCA decomposition over the given data \n",
    "# and decompose it to the number of components specified as n_dim\n",
    "# We then save the model to the save_path as a pickle dump\n",
    "def pca_fit_and_dump(n_dim, data, save_path):\n",
    "    pca = decomposition.PCA(n_components=n_dim)\n",
    "    pca.fit(data)\n",
    "    with open(save_path, \"wb\") as f:\n",
    "        pickle.dump(pca, f)\n",
    "    return pca\n",
    "pca_fit_and_dump(200, train_data, nfs_path + \"models/pca_mnist.p\")"
   ]
  },
  {
   "cell_type": "code",
   "execution_count": 13,
   "metadata": {},
   "outputs": [
    {
     "name": "stdout",
     "output_type": "stream",
     "text": [
      "Job Status: Finished\n",
      "\n",
      "\n",
      "\n",
      "\n"
     ]
    }
   ],
   "source": [
    "%logs --url http://bluedata-13.bdlocal:10001/history/8"
   ]
  }
 ],
 "metadata": {
  "kernelspec": {
   "display_name": "Python 3",
   "language": "python",
   "name": "python3"
  },
  "language_info": {
   "codemirror_mode": {
    "name": "ipython",
    "version": 3
   },
   "file_extension": ".py",
   "mimetype": "text/x-python",
   "name": "python",
   "nbconvert_exporter": "python",
   "pygments_lexer": "ipython3",
   "version": "3.7.3"
  }
 },
 "nbformat": 4,
 "nbformat_minor": 2
}
