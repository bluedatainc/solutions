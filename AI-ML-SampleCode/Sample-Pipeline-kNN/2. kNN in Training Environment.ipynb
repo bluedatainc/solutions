{
 "cells": [
  {
   "cell_type": "markdown",
   "metadata": {},
   "source": [
    "In this notebook, we shall use the stored PCA model and apply a kNN classifier in the training environment."
   ]
  },
  {
   "cell_type": "markdown",
   "metadata": {},
   "source": [
    "### 1. Check the attached training environment\n",
    "\n",
    "Using '%attachments', we can see the training enviroment that is attached to the Notebook Cluster."
   ]
  },
  {
   "cell_type": "code",
   "execution_count": 2,
   "metadata": {},
   "outputs": [
    {
     "name": "stdout",
     "output_type": "stream",
     "text": [
      "Training Cluster    ML Engine\n",
      "------------------  -----------\n",
      "knntrainingenv      python\n"
     ]
    }
   ],
   "source": [
    "%attachments"
   ]
  },
  {
   "cell_type": "markdown",
   "metadata": {},
   "source": [
    "### 2. Write the training code\n",
    "\n",
    "The training cluster that we have attached is 'knntrainingenv'. Using the '%%knntrainingenv', we build a kNN classification model in that training cluster. "
   ]
  },
  {
   "cell_type": "code",
   "execution_count": 5,
   "metadata": {},
   "outputs": [
    {
     "name": "stdout",
     "output_type": "stream",
     "text": [
      "History URL: http://bluedata-42.bdlocal:10001/history/2\n"
     ]
    }
   ],
   "source": [
    "%%knntrainingenv\n",
    "# We run the code directly into the training cluster with the help of the \"%%\" magic command\n",
    "\n",
    "# Imports\n",
    "import numpy as np\n",
    "import pandas as pd\n",
    "from sklearn import decomposition\n",
    "import pickle\n",
    "from sklearn.neighbors import KNeighborsClassifier\n",
    "\n",
    "nfs_path = \"/bd-fs-mnt/sj_ai_ml/\"\n",
    "\n",
    "\n",
    "# Load training data\n",
    "train_label = np.load(nfs_path + \"data/train_label.npy\")\n",
    "train_data = np.load(nfs_path + \"data/train_data.npy\")\n",
    "\n",
    "\n",
    "# Load PCA transformation model that we dumped in the pre-processing step\n",
    "with open(nfs_path + \"models/pca_mnist.p\", \"rb\") as f:\n",
    "    pca_mnist = pickle.load(f)\n",
    "    \n",
    "pca_train = pca_mnist.transform(train_data)\n",
    "\n",
    "# Define a k-NN model with 'n' neighbours. We use distance as weights which would \n",
    "# help make the closest digits gain more importance\n",
    "def build_kNN_and_dump(neighbours, data, labels, save_path):\n",
    "    kNN_model = KNeighborsClassifier(n_neighbors=neighbours, weights='distance')\n",
    "    kNN_model.fit(data, labels)\n",
    "    with open(save_path, \"wb\") as f:\n",
    "        pickle.dump(kNN_model, f)\n",
    "        \n",
    "# Dump the model into the repository        \n",
    "build_kNN_and_dump(3, pca_train, train_label, nfs_path + \"models/kNN_mnist.p\")"
   ]
  },
  {
   "cell_type": "markdown",
   "metadata": {},
   "source": [
    "### 3. Examine the status\n",
    "\n",
    "We examine the History URL returned from the earlier cell to see if the training job is finished. We use '%logs' to see this status"
   ]
  },
  {
   "cell_type": "code",
   "execution_count": 6,
   "metadata": {},
   "outputs": [
    {
     "name": "stdout",
     "output_type": "stream",
     "text": [
      "Job Status: Finished\n",
      "\n",
      "\n",
      "\n",
      "\n"
     ]
    }
   ],
   "source": [
    "%logs --url http://bluedata-43.bdlocal:10001/history/2"
   ]
  },
  {
   "cell_type": "markdown",
   "metadata": {},
   "source": [
    "We now have successsfully dumped a k-NN classifier with 3 neighbours on the persistent storage. The next step would be to call this in the scoring script. We shall reigister this scoring script with a deployment and call it using a POST call."
   ]
  }
 ],
 "metadata": {
  "kernelspec": {
   "display_name": "Python 3",
   "language": "python",
   "name": "python3"
  },
  "language_info": {
   "codemirror_mode": {
    "name": "ipython",
    "version": 3
   },
   "file_extension": ".py",
   "mimetype": "text/x-python",
   "name": "python",
   "nbconvert_exporter": "python",
   "pygments_lexer": "ipython3",
   "version": "3.7.3"
  }
 },
 "nbformat": 4,
 "nbformat_minor": 2
}
